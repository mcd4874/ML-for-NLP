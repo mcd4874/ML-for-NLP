{
 "cells": [
  {
   "cell_type": "code",
   "execution_count": 58,
   "metadata": {},
   "outputs": [],
   "source": [
    "import pandas as pd\n",
    "import numpy as np\n",
    "from sklearn.model_selection import train_test_split\n",
    "from sklearn.feature_extraction.text import CountVectorizer\n",
    "from sklearn.metrics import classification_report, confusion_matrix,log_loss, accuracy_score\n",
    "from sklearn.ensemble import RandomForestClassifier\n",
    "from sklearn.naive_bayes import GaussianNB\n",
    "from sklearn.discriminant_analysis import LinearDiscriminantAnalysis\n",
    "from sklearn.ensemble import GradientBoostingClassifier\n",
    "from sklearn.linear_model import LogisticRegression\n",
    "from sklearn.metrics import accuracy_score\n",
    "from sklearn.svm import LinearSVC\n",
    "from imblearn.over_sampling import RandomOverSampler\n",
    "import nltk\n",
    "import gensim\n",
    "import os\n",
    "import matplotlib.pyplot as plt\n",
    "import re"
   ]
  },
  {
   "cell_type": "code",
   "execution_count": 59,
   "metadata": {},
   "outputs": [
    {
     "data": {
      "text/html": [
       "<div>\n",
       "<style scoped>\n",
       "    .dataframe tbody tr th:only-of-type {\n",
       "        vertical-align: middle;\n",
       "    }\n",
       "\n",
       "    .dataframe tbody tr th {\n",
       "        vertical-align: top;\n",
       "    }\n",
       "\n",
       "    .dataframe thead th {\n",
       "        text-align: right;\n",
       "    }\n",
       "</style>\n",
       "<table border=\"1\" class=\"dataframe\">\n",
       "  <thead>\n",
       "    <tr style=\"text-align: right;\">\n",
       "      <th></th>\n",
       "      <th>index</th>\n",
       "      <th>sentence</th>\n",
       "      <th>polarity</th>\n",
       "      <th>issue</th>\n",
       "      <th>genre</th>\n",
       "      <th>uname</th>\n",
       "    </tr>\n",
       "  </thead>\n",
       "  <tbody>\n",
       "    <tr>\n",
       "      <th>0</th>\n",
       "      <td>0</td>\n",
       "      <td>This is definitely a must have if your state d...</td>\n",
       "      <td>POSITIVE</td>\n",
       "      <td>NONE</td>\n",
       "      <td>GENRE_B</td>\n",
       "      <td>NaN</td>\n",
       "    </tr>\n",
       "    <tr>\n",
       "      <th>1</th>\n",
       "      <td>1</td>\n",
       "      <td>It's a great place and I highly recommend it.</td>\n",
       "      <td>POSITIVE</td>\n",
       "      <td>NONE</td>\n",
       "      <td>GENRE_B</td>\n",
       "      <td>NaN</td>\n",
       "    </tr>\n",
       "    <tr>\n",
       "      <th>2</th>\n",
       "      <td>2</td>\n",
       "      <td>I will see the doctors, take some blood tests ...</td>\n",
       "      <td>NEUTRAL</td>\n",
       "      <td>GOING_TO_PLACES</td>\n",
       "      <td>GENRE_A</td>\n",
       "      <td>NaN</td>\n",
       "    </tr>\n",
       "    <tr>\n",
       "      <th>3</th>\n",
       "      <td>3</td>\n",
       "      <td>I can tell you about having my phone and elect...</td>\n",
       "      <td>NEGATIVE</td>\n",
       "      <td>MONEY_ISSUE</td>\n",
       "      <td>GENRE_A</td>\n",
       "      <td>NaN</td>\n",
       "    </tr>\n",
       "    <tr>\n",
       "      <th>4</th>\n",
       "      <td>4</td>\n",
       "      <td>Their steaks are 100% recommended!</td>\n",
       "      <td>POSITIVE</td>\n",
       "      <td>NONE</td>\n",
       "      <td>GENRE_B</td>\n",
       "      <td>NaN</td>\n",
       "    </tr>\n",
       "  </tbody>\n",
       "</table>\n",
       "</div>"
      ],
      "text/plain": [
       "   index                                           sentence  polarity  \\\n",
       "0      0  This is definitely a must have if your state d...  POSITIVE   \n",
       "1      1      It's a great place and I highly recommend it.  POSITIVE   \n",
       "2      2  I will see the doctors, take some blood tests ...   NEUTRAL   \n",
       "3      3  I can tell you about having my phone and elect...  NEGATIVE   \n",
       "4      4                 Their steaks are 100% recommended!  POSITIVE   \n",
       "\n",
       "             issue    genre  uname  \n",
       "0             NONE  GENRE_B    NaN  \n",
       "1             NONE  GENRE_B    NaN  \n",
       "2  GOING_TO_PLACES  GENRE_A    NaN  \n",
       "3      MONEY_ISSUE  GENRE_A    NaN  \n",
       "4             NONE  GENRE_B    NaN  "
      ]
     },
     "execution_count": 59,
     "metadata": {},
     "output_type": "execute_result"
    }
   ],
   "source": [
    "data = pd.read_csv('PS3_training_data.txt',  delimiter='\t', names = [\"index\",\"sentence\",\"polarity\",\"issue\",\"genre\", \"uname\"])\n",
    "data.head()"
   ]
  },
  {
   "cell_type": "code",
   "execution_count": 60,
   "metadata": {},
   "outputs": [
    {
     "data": {
      "text/html": [
       "<div>\n",
       "<style scoped>\n",
       "    .dataframe tbody tr th:only-of-type {\n",
       "        vertical-align: middle;\n",
       "    }\n",
       "\n",
       "    .dataframe tbody tr th {\n",
       "        vertical-align: top;\n",
       "    }\n",
       "\n",
       "    .dataframe thead th {\n",
       "        text-align: right;\n",
       "    }\n",
       "</style>\n",
       "<table border=\"1\" class=\"dataframe\">\n",
       "  <thead>\n",
       "    <tr style=\"text-align: right;\">\n",
       "      <th></th>\n",
       "      <th>sentence</th>\n",
       "      <th>polarity</th>\n",
       "      <th>issue</th>\n",
       "      <th>genre</th>\n",
       "    </tr>\n",
       "  </thead>\n",
       "  <tbody>\n",
       "    <tr>\n",
       "      <th>0</th>\n",
       "      <td>This is definitely a must have if your state d...</td>\n",
       "      <td>POSITIVE</td>\n",
       "      <td>NONE</td>\n",
       "      <td>GENRE_B</td>\n",
       "    </tr>\n",
       "    <tr>\n",
       "      <th>1</th>\n",
       "      <td>It's a great place and I highly recommend it.</td>\n",
       "      <td>POSITIVE</td>\n",
       "      <td>NONE</td>\n",
       "      <td>GENRE_B</td>\n",
       "    </tr>\n",
       "    <tr>\n",
       "      <th>2</th>\n",
       "      <td>I will see the doctors, take some blood tests ...</td>\n",
       "      <td>NEUTRAL</td>\n",
       "      <td>GOING_TO_PLACES</td>\n",
       "      <td>GENRE_A</td>\n",
       "    </tr>\n",
       "    <tr>\n",
       "      <th>3</th>\n",
       "      <td>I can tell you about having my phone and elect...</td>\n",
       "      <td>NEGATIVE</td>\n",
       "      <td>MONEY_ISSUE</td>\n",
       "      <td>GENRE_A</td>\n",
       "    </tr>\n",
       "    <tr>\n",
       "      <th>4</th>\n",
       "      <td>Their steaks are 100% recommended!</td>\n",
       "      <td>POSITIVE</td>\n",
       "      <td>NONE</td>\n",
       "      <td>GENRE_B</td>\n",
       "    </tr>\n",
       "  </tbody>\n",
       "</table>\n",
       "</div>"
      ],
      "text/plain": [
       "                                            sentence  polarity  \\\n",
       "0  This is definitely a must have if your state d...  POSITIVE   \n",
       "1      It's a great place and I highly recommend it.  POSITIVE   \n",
       "2  I will see the doctors, take some blood tests ...   NEUTRAL   \n",
       "3  I can tell you about having my phone and elect...  NEGATIVE   \n",
       "4                 Their steaks are 100% recommended!  POSITIVE   \n",
       "\n",
       "             issue    genre  \n",
       "0             NONE  GENRE_B  \n",
       "1             NONE  GENRE_B  \n",
       "2  GOING_TO_PLACES  GENRE_A  \n",
       "3      MONEY_ISSUE  GENRE_A  \n",
       "4             NONE  GENRE_B  "
      ]
     },
     "execution_count": 60,
     "metadata": {},
     "output_type": "execute_result"
    }
   ],
   "source": [
    "data = data[[\"sentence\",\"polarity\",\"issue\",\"genre\"]]\n",
    "# hist = data.hist(bin = 3)\n",
    "data.head()\n"
   ]
  },
  {
   "cell_type": "code",
   "execution_count": 61,
   "metadata": {},
   "outputs": [
    {
     "name": "stdout",
     "output_type": "stream",
     "text": [
      " POS : % , NEG : %, NEU : % (0.41953125, 0.50078125, 0.0796875)\n"
     ]
    }
   ],
   "source": [
    "POS = len(data[data.polarity == \"POSITIVE\"])\n",
    "NEG = len(data[data.polarity == \"NEGATIVE\"])\n",
    "NEU = len(data[data.polarity == \"NEUTRAL\"])\n",
    "total = len(data)\n",
    "print(\" POS : % , NEG : %, NEU : %\",(POS/total,NEG/total,NEU/total))"
   ]
  },
  {
   "cell_type": "code",
   "execution_count": 62,
   "metadata": {},
   "outputs": [],
   "source": [
    "\n"
   ]
  },
  {
   "cell_type": "code",
   "execution_count": 63,
   "metadata": {},
   "outputs": [],
   "source": [
    "def clean_text(text):\n",
    "    \"\"\"\n",
    "    Applies some pre-processing on the given text.\n",
    "\n",
    "    Steps :\n",
    "    - Removing HTML tags\n",
    "    - Removing punctuation\n",
    "    - Lowering text\n",
    "    \"\"\"\n",
    "    \n",
    "    # remove HTML tags\n",
    "    text = re.sub(r'<.*?>', '', text)\n",
    "    \n",
    "    # remove the characters [\\], ['] and [\"]\n",
    "    text = re.sub(r\"\\\\\", \"\", text)    \n",
    "    text = re.sub(r\"\\'\", \"\", text)    \n",
    "    text = re.sub(r\"\\\"\", \"\", text)    \n",
    "    \n",
    "    # convert text to lowercase\n",
    "    text = text.strip().lower()\n",
    "    \n",
    "    # replace punctuation characters with spaces\n",
    "    filters='!\"\\'#$%&()*+,-./:;<=>?@[\\\\]^_`{|}~\\t\\n'\n",
    "    translate_dict = dict((c, \" \") for c in filters)\n",
    "    translate_map = str.maketrans(translate_dict)\n",
    "    text = text.translate(translate_map)\n",
    "\n",
    "    return text"
   ]
  },
  {
   "cell_type": "code",
   "execution_count": 64,
   "metadata": {},
   "outputs": [],
   "source": [
    "cv = CountVectorizer(stop_words=\"english\",\n",
    "                             preprocessor=clean_text).fit(data[\"sentence\"])\n",
    "df_train,df_test = train_test_split(data,test_size=0.2, random_state=35)\n",
    "\n"
   ]
  },
  {
   "cell_type": "code",
   "execution_count": 65,
   "metadata": {},
   "outputs": [],
   "source": [
    "# x_train = mean_embedding_vectorizer.fit_transform(df_train['sentence'])\n",
    "# y_train = df_train['polarity']\n",
    "# x_test = mean_embedding_vectorizer.fit_transform(df_test['sentence'])\n",
    "# y_test = df_test['polarity']\n",
    "# print((x_train.shape,y_train.shape))\n",
    "# ros = RandomOverSampler(random_state=42)\n",
    "# x_train,y_train =  ros.fit_resample(x_train,y_train)\n",
    "# print((x_train.shape,y_train.shape))"
   ]
  },
  {
   "cell_type": "code",
   "execution_count": 77,
   "metadata": {},
   "outputs": [
    {
     "name": "stdout",
     "output_type": "stream",
     "text": [
      "((2048, 6491), (2048,))\n"
     ]
    }
   ],
   "source": [
    "x_train = cv.transform(df_train['sentence'])\n",
    "y_train = df_train['polarity']\n",
    "# y_train = df_train['genre']\n",
    "# y_train = df_train['issue']\n",
    "\n",
    "\n",
    "\n",
    "x_test = cv.transform(df_test['sentence']) \n",
    "y_test = df_test['polarity']\n",
    "# y_test = df_test['genre']\n",
    "# y_test = df_test['issue']\n",
    "\n",
    "\n",
    "\n",
    "print((x_train.shape,y_train.shape))\n",
    "# ros = RandomOverSampler(random_state=42)\n",
    "# x_train,y_train =  ros.fit_resample(x_train,y_train)\n",
    "# print((x_train.shape,y_train.shape))"
   ]
  },
  {
   "cell_type": "code",
   "execution_count": 78,
   "metadata": {},
   "outputs": [
    {
     "name": "stdout",
     "output_type": "stream",
     "text": [
      "0.6953125\n",
      "              precision    recall  f1-score   support\n",
      "\n",
      "    NEGATIVE       0.71      0.79      0.75       256\n",
      "     NEUTRAL       0.50      0.26      0.34        47\n",
      "    POSITIVE       0.70      0.67      0.69       209\n",
      "\n",
      "   micro avg       0.70      0.70      0.70       512\n",
      "   macro avg       0.64      0.57      0.59       512\n",
      "weighted avg       0.69      0.70      0.69       512\n",
      "\n",
      "0.67578125\n",
      "              precision    recall  f1-score   support\n",
      "\n",
      "    NEGATIVE       0.64      0.93      0.76       256\n",
      "     NEUTRAL       0.62      0.17      0.27        47\n",
      "    POSITIVE       0.78      0.48      0.60       209\n",
      "\n",
      "   micro avg       0.68      0.68      0.68       512\n",
      "   macro avg       0.68      0.53      0.54       512\n",
      "weighted avg       0.70      0.68      0.65       512\n",
      "\n",
      "0.705078125\n",
      "              precision    recall  f1-score   support\n",
      "\n",
      "    NEGATIVE       0.69      0.81      0.75       256\n",
      "     NEUTRAL       0.79      0.23      0.36        47\n",
      "    POSITIVE       0.72      0.68      0.70       209\n",
      "\n",
      "   micro avg       0.71      0.71      0.71       512\n",
      "   macro avg       0.73      0.58      0.60       512\n",
      "weighted avg       0.71      0.71      0.69       512\n",
      "\n"
     ]
    }
   ],
   "source": [
    "def generate_report(model,x_test,y_test):\n",
    "    predict = model.predict(x_test)\n",
    "#     print(predict.shape)\n",
    "#     print(y_test.shape)\n",
    "    print(accuracy_score(y_test, predict))\n",
    "    print(classification_report(y_test, predict))\n",
    "models = [\n",
    "#     RandomForestClassifier(),\n",
    "    LinearSVC(),\n",
    "    GradientBoostingClassifier(),\n",
    "    LogisticRegression()\n",
    "    \n",
    "     \n",
    "]\n",
    "for model in models:\n",
    "    model.fit(x_train,y_train)\n",
    "    generate_report(model,x_test,y_test)\n",
    "\n"
   ]
  }
 ],
 "metadata": {
  "kernelspec": {
   "display_name": "Python 3",
   "language": "python",
   "name": "python3"
  },
  "language_info": {
   "codemirror_mode": {
    "name": "ipython",
    "version": 3
   },
   "file_extension": ".py",
   "mimetype": "text/x-python",
   "name": "python",
   "nbconvert_exporter": "python",
   "pygments_lexer": "ipython3",
   "version": "3.6.8"
  }
 },
 "nbformat": 4,
 "nbformat_minor": 2
}
